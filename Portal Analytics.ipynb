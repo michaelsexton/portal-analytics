{
 "cells": [
  {
   "cell_type": "code",
   "execution_count": 1,
   "metadata": {
    "pycharm": {
     "is_executing": false
    }
   },
   "outputs": [],
   "source": [
    "%load_ext autoreload\n",
    "%autoreload 2"
   ]
  },
  {
   "cell_type": "code",
   "execution_count": 2,
   "metadata": {
    "pycharm": {
     "is_executing": false
    }
   },
   "outputs": [
    {
     "name": "stderr",
     "output_type": "stream",
     "text": [
      "Unable to open EPSG support file gcs.csv.  Try setting the GDAL_DATA environment variable to point to the directory containing EPSG csv files.\n"
     ]
    }
   ],
   "source": [
    "from portal_analytics.api import AnalyticsApi\n",
    "import portal_analytics.parser as parser\n",
    "import portal_analytics.create_rasters as cr\n",
    "from shapely.geometry import box, Point\n",
    "import json\n",
    "import pandas as pd"
   ]
  },
  {
   "cell_type": "code",
   "execution_count": 3,
   "metadata": {
    "pycharm": {
     "is_executing": false
    }
   },
   "outputs": [
    {
     "name": "stdout",
     "output_type": "stream",
     "text": [
      "mineral_occurrences\n",
      "mines\n",
      "mineral_tenements\n",
      "scanned_250K_maps\n",
      "nvcl\n",
      "all_boreholes\n"
     ]
    }
   ],
   "source": [
    "with open('items.json') as file:\n",
    "      items = json.load(file)\n",
    "layers=  items[\"layers\"]\n",
    "for layer in layers:\n",
    "    print(layer)"
   ]
  },
  {
   "cell_type": "code",
   "execution_count": 4,
   "metadata": {
    "pycharm": {
     "is_executing": false
    }
   },
   "outputs": [],
   "source": [
    "KEY_FILE = 'GeosciencePortal-eeac25f8efb3.json'\n",
    "ACCOUNT_NAME = 'AUSGIN website'\n",
    "PROPERTY_NAME = 'AUSGIN'\n",
    "PROFILE_NAME = 'AUSGIN - exclude internal traffic'\n"
   ]
  },
  {
   "cell_type": "code",
   "execution_count": 6,
   "metadata": {
    "pycharm": {
     "is_executing": false
    }
   },
   "outputs": [],
   "source": [
    "connection=AnalyticsApi(KEY_FILE,ACCOUNT_NAME,PROPERTY_NAME,PROFILE_NAME)"
   ]
  },
  {
   "cell_type": "code",
   "execution_count": 7,
   "metadata": {
    "pycharm": {
     "is_executing": false
    }
   },
   "outputs": [],
   "source": [
    "rows, headers = connection.get_results()"
   ]
  },
  {
   "cell_type": "code",
   "execution_count": 9,
   "metadata": {
    "pycharm": {
     "is_executing": false
    }
   },
   "outputs": [],
   "source": [
    "raw_results = parser.create_dataframe(rows, headers)\n",
    "raw_results.to_excel(\"raw_results.xlsx\")"
   ]
  },
  {
   "cell_type": "code",
   "execution_count": null,
   "metadata": {
    "pycharm": {
     "is_executing": false
    },
    "scrolled": true
   },
   "outputs": [],
   "source": [
    "raw_results[\"ga:eventCategory\"].unique()"
   ]
  },
  {
   "cell_type": "code",
   "execution_count": null,
   "metadata": {
    "pycharm": {
     "is_executing": false
    }
   },
   "outputs": [],
   "source": [
    "raw_results[\"ga:hostname\"].unique()"
   ]
  },
  {
   "cell_type": "code",
   "execution_count": null,
   "metadata": {
    "pycharm": {
     "is_executing": false
    }
   },
   "outputs": [],
   "source": [
    "raw_results[raw_results[\"ga:eventCategory\"]==\"New:Help Panel\"]\n"
   ]
  },
  {
   "cell_type": "code",
   "execution_count": null,
   "metadata": {
    "collapsed": true,
    "pycharm": {
     "is_executing": false
    }
   },
   "outputs": [],
   "source": [
    "data_frame = parser.process_dataframe(raw_results)\n",
    "data_frame[\"ga:totalEvents\"]=data_frame[\"ga:totalEvents\"].apply(int)\n",
    "add_layers=data_frame[data_frame[\"ga:eventCategory\"]==\"Add:KnownLayer\"].groupby(by=\"ga:eventAction\")[\"ga:totalEvents\"].sum()"
   ]
  },
  {
   "cell_type": "code",
   "execution_count": null,
   "metadata": {
    "collapsed": true,
    "pycharm": {
     "is_executing": false
    }
   },
   "outputs": [],
   "source": [
    "pd.DataFrame(add_layers).sort_values(\"ga:totalEvents\", ascending=False).to_excel(\"add_layers.xlsx\")"
   ]
  },
  {
   "cell_type": "code",
   "execution_count": null,
   "metadata": {
    "collapsed": true,
    "pycharm": {
     "is_executing": false
    }
   },
   "outputs": [],
   "source": [
    "query=raw_results[raw_results[\"ga:eventCategory\"]==\"Query\"]"
   ]
  },
  {
   "cell_type": "code",
   "execution_count": null,
   "metadata": {
    "collapsed": true,
    "pycharm": {
     "is_executing": false
    }
   },
   "outputs": [],
   "source": [
    "query[\"ga:eventAction\"].unique();"
   ]
  },
  {
   "cell_type": "code",
   "execution_count": null,
   "metadata": {
    "collapsed": true,
    "pycharm": {
     "is_executing": false
    }
   },
   "outputs": [],
   "source": [
    "gdf = parser.create_geodataframe(data_frame)\n",
    "%matplotlib inline"
   ]
  },
  {
   "cell_type": "code",
   "execution_count": null,
   "metadata": {
    "collapsed": true,
    "pycharm": {
     "is_executing": false
    }
   },
   "outputs": [],
   "source": [
    "map_centre=Point(133.3,-26)\n",
    "\n",
    "australia_bounds = box(110,-45,155,-10)\n",
    "buff=map_centre.buffer(1)\n"
   ]
  },
  {
   "cell_type": "code",
   "execution_count": null,
   "metadata": {
    "collapsed": true,
    "pycharm": {
     "is_executing": false
    }
   },
   "outputs": [],
   "source": [
    "#gdf[\"distance\"] = gdf[\"shape\"].centroid.distance(map_centre)\n",
    "gdf[\"area\"] = gdf[\"shape\"].area\n",
    "gdf[\"weighting\"] = australia_bounds.area/ gdf[\"shape\"].area * gdf[\"ga:totalEvents\"]\n",
    "gdf = gdf[gdf[\"shape\"].centroid.intersects(australia_bounds)]\n",
    "#gdf = gdf[gdf[\"shape\"].centroid.intersects(buff)]\n",
    "\n",
    "gdf = gdf[gdf[\"area\"] <= australia_bounds.area]\n",
    "#gdf = gdf[gdf[\"area\"] > 0]\n",
    "#gdf\n",
    "\n",
    "\n",
    "x=gdf[gdf['ga:eventAction'] == \"Layer:Scanned 250K Geological Map Index\"]\n"
   ]
  },
  {
   "cell_type": "code",
   "execution_count": null,
   "metadata": {
    "collapsed": true,
    "pycharm": {
     "is_executing": false
    }
   },
   "outputs": [],
   "source": [
    "cr.create_spatial_data(gdf)\n",
    "\n"
   ]
  },
  {
   "cell_type": "code",
   "execution_count": null,
   "metadata": {
    "collapsed": true,
    "pycharm": {
     "is_executing": false
    }
   },
   "outputs": [],
   "source": [
    "x=1"
   ]
  },
  {
   "cell_type": "code",
   "execution_count": null,
   "metadata": {
    "collapsed": true,
    "pycharm": {
     "is_executing": false
    }
   },
   "outputs": [],
   "source": []
  }
 ],
 "metadata": {
  "kernelspec": {
   "display_name": "Python 3",
   "language": "python",
   "name": "python3"
  },
  "language_info": {
   "codemirror_mode": {
    "name": "ipython",
    "version": 3
   },
   "file_extension": ".py",
   "mimetype": "text/x-python",
   "name": "python",
   "nbconvert_exporter": "python",
   "pygments_lexer": "ipython3",
   "version": "3.7.3"
  }
 },
 "nbformat": 4,
 "nbformat_minor": 2
}
