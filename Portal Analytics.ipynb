{
 "cells": [
  {
   "cell_type": "code",
   "execution_count": 1,
   "metadata": {},
   "outputs": [],
   "source": [
    "%load_ext autoreload\n",
    "%autoreload 2"
   ]
  },
  {
   "cell_type": "code",
   "execution_count": 2,
   "metadata": {},
   "outputs": [],
   "source": [
    "from portal_analytics.api import AnalyticsApi\n",
    "import portal_analytics.parser as parser\n",
    "import portal_analytics.create_rasters as cr\n",
    "from shapely.geometry import box, Point\n",
    "import json\n",
    "import pandas as pd"
   ]
  },
  {
   "cell_type": "code",
   "execution_count": 3,
   "metadata": {},
   "outputs": [
    {
     "name": "stdout",
     "output_type": "stream",
     "text": [
      "mineral_occurrences\n",
      "mines\n",
      "mineral_tenements\n",
      "scanned_250K_maps\n",
      "nvcl\n",
      "all_boreholes\n"
     ]
    }
   ],
   "source": [
    "with open('items.json') as file:\n",
    "      items = json.load(file)\n",
    "layers=  items[\"layers\"]\n",
    "for layer in layers:\n",
    "    print(layer)"
   ]
  },
  {
   "cell_type": "code",
   "execution_count": 4,
   "metadata": {},
   "outputs": [],
   "source": [
    "KEY_FILE = 'GeosciencePortal-eeac25f8efb3.json'\n",
    "ACCOUNT_NAME = 'AUSGIN website'\n",
    "PROPERTY_NAME = 'AUSGIN'\n",
    "PROFILE_NAME = 'AUSGIN - exclude internal traffic'\n"
   ]
  },
  {
   "cell_type": "code",
   "execution_count": 5,
   "metadata": {},
   "outputs": [],
   "source": [
    "connection=AnalyticsApi(KEY_FILE,ACCOUNT_NAME,PROPERTY_NAME,PROFILE_NAME)"
   ]
  },
  {
   "cell_type": "code",
   "execution_count": 6,
   "metadata": {},
   "outputs": [],
   "source": [
    "rows, headers = connection.get_results()"
   ]
  },
  {
   "cell_type": "code",
   "execution_count": 7,
   "metadata": {},
   "outputs": [],
   "source": [
    "raw_results = parser.create_dataframe(rows, headers)\n",
    "raw_results.to_excel(\"raw_results.xlsx\")"
   ]
  },
  {
   "cell_type": "code",
   "execution_count": 8,
   "metadata": {
    "scrolled": true
   },
   "outputs": [
    {
     "data": {
      "text/plain": [
       "array(['Add:KnownLayer', 'New:CustomUI', 'New:Downloads',\n",
       "       'New:Help Panel', 'New:LayerInteraction', 'New:Query'],\n",
       "      dtype=object)"
      ]
     },
     "execution_count": 8,
     "metadata": {},
     "output_type": "execute_result"
    }
   ],
   "source": [
    "raw_results[\"ga:eventCategory\"].unique()"
   ]
  },
  {
   "cell_type": "code",
   "execution_count": 9,
   "metadata": {},
   "outputs": [
    {
     "data": {
      "text/plain": [
       "array(['portal.geoscience.gov.au'], dtype=object)"
      ]
     },
     "execution_count": 9,
     "metadata": {},
     "output_type": "execute_result"
    }
   ],
   "source": [
    "raw_results[\"ga:hostname\"].unique()"
   ]
  },
  {
   "cell_type": "code",
   "execution_count": 14,
   "metadata": {},
   "outputs": [
    {
     "data": {
      "text/html": [
       "<div>\n",
       "<style scoped>\n",
       "    .dataframe tbody tr th:only-of-type {\n",
       "        vertical-align: middle;\n",
       "    }\n",
       "\n",
       "    .dataframe tbody tr th {\n",
       "        vertical-align: top;\n",
       "    }\n",
       "\n",
       "    .dataframe thead th {\n",
       "        text-align: right;\n",
       "    }\n",
       "</style>\n",
       "<table border=\"1\" class=\"dataframe\">\n",
       "  <thead>\n",
       "    <tr style=\"text-align: right;\">\n",
       "      <th></th>\n",
       "      <th>ga:eventCategory</th>\n",
       "      <th>ga:eventAction</th>\n",
       "      <th>ga:eventLabel</th>\n",
       "      <th>ga:hostname</th>\n",
       "      <th>ga:totalEvents</th>\n",
       "    </tr>\n",
       "  </thead>\n",
       "  <tbody>\n",
       "    <tr>\n",
       "      <th>629</th>\n",
       "      <td>New:Help Panel</td>\n",
       "      <td>Click</td>\n",
       "      <td>Download the 1:250K geological map downlod Guide</td>\n",
       "      <td>portal.geoscience.gov.au</td>\n",
       "      <td>19</td>\n",
       "    </tr>\n",
       "    <tr>\n",
       "      <th>630</th>\n",
       "      <td>New:Help Panel</td>\n",
       "      <td>Click</td>\n",
       "      <td>Download the portal User Guide</td>\n",
       "      <td>portal.geoscience.gov.au</td>\n",
       "      <td>3</td>\n",
       "    </tr>\n",
       "    <tr>\n",
       "      <th>631</th>\n",
       "      <td>New:Help Panel</td>\n",
       "      <td>Click</td>\n",
       "      <td>Help desk contact and other enquiries and feed...</td>\n",
       "      <td>portal.geoscience.gov.au</td>\n",
       "      <td>6</td>\n",
       "    </tr>\n",
       "  </tbody>\n",
       "</table>\n",
       "</div>"
      ],
      "text/plain": [
       "    ga:eventCategory ga:eventAction  \\\n",
       "629   New:Help Panel          Click   \n",
       "630   New:Help Panel          Click   \n",
       "631   New:Help Panel          Click   \n",
       "\n",
       "                                         ga:eventLabel  \\\n",
       "629   Download the 1:250K geological map downlod Guide   \n",
       "630                     Download the portal User Guide   \n",
       "631  Help desk contact and other enquiries and feed...   \n",
       "\n",
       "                  ga:hostname ga:totalEvents  \n",
       "629  portal.geoscience.gov.au             19  \n",
       "630  portal.geoscience.gov.au              3  \n",
       "631  portal.geoscience.gov.au              6  "
      ]
     },
     "execution_count": 14,
     "metadata": {},
     "output_type": "execute_result"
    }
   ],
   "source": [
    "raw_results[raw_results[\"ga:eventCategory\"]==\"New:Help Panel\"]\n"
   ]
  },
  {
   "cell_type": "code",
   "execution_count": null,
   "metadata": {},
   "outputs": [],
   "source": [
    "data_frame = parser.process_dataframe(raw_results)\n",
    "data_frame[\"ga:totalEvents\"]=data_frame[\"ga:totalEvents\"].apply(int)\n",
    "add_layers=data_frame[data_frame[\"ga:eventCategory\"]==\"Add:KnownLayer\"].groupby(by=\"ga:eventAction\")[\"ga:totalEvents\"].sum()"
   ]
  },
  {
   "cell_type": "code",
   "execution_count": null,
   "metadata": {},
   "outputs": [],
   "source": [
    "pd.DataFrame(add_layers).sort_values(\"ga:totalEvents\", ascending=False).to_excel(\"add_layers.xlsx\")"
   ]
  },
  {
   "cell_type": "code",
   "execution_count": null,
   "metadata": {},
   "outputs": [],
   "source": [
    "query=raw_results[raw_results[\"ga:eventCategory\"]==\"Query\"]"
   ]
  },
  {
   "cell_type": "code",
   "execution_count": null,
   "metadata": {},
   "outputs": [],
   "source": [
    "query[\"ga:eventAction\"].unique();"
   ]
  },
  {
   "cell_type": "code",
   "execution_count": null,
   "metadata": {},
   "outputs": [],
   "source": [
    "gdf = parser.create_geodataframe(data_frame)\n",
    "%matplotlib inline"
   ]
  },
  {
   "cell_type": "code",
   "execution_count": null,
   "metadata": {},
   "outputs": [],
   "source": [
    "map_centre=Point(133.3,-26)\n",
    "\n",
    "australia_bounds = box(110,-45,155,-10)\n",
    "buff=map_centre.buffer(1)\n"
   ]
  },
  {
   "cell_type": "code",
   "execution_count": null,
   "metadata": {},
   "outputs": [],
   "source": [
    "#gdf[\"distance\"] = gdf[\"shape\"].centroid.distance(map_centre)\n",
    "gdf[\"area\"] = gdf[\"shape\"].area\n",
    "gdf[\"weighting\"] = australia_bounds.area/ gdf[\"shape\"].area * gdf[\"ga:totalEvents\"]\n",
    "gdf = gdf[gdf[\"shape\"].centroid.intersects(australia_bounds)]\n",
    "#gdf = gdf[gdf[\"shape\"].centroid.intersects(buff)]\n",
    "\n",
    "gdf = gdf[gdf[\"area\"] <= australia_bounds.area]\n",
    "#gdf = gdf[gdf[\"area\"] > 0]\n",
    "#gdf\n",
    "\n",
    "\n",
    "x=gdf[gdf['ga:eventAction'] == \"Layer:Scanned 250K Geological Map Index\"]\n"
   ]
  },
  {
   "cell_type": "code",
   "execution_count": null,
   "metadata": {},
   "outputs": [],
   "source": [
    "cr.create_spatial_data(gdf)\n",
    "\n"
   ]
  },
  {
   "cell_type": "code",
   "execution_count": null,
   "metadata": {},
   "outputs": [],
   "source": [
    "x=1"
   ]
  },
  {
   "cell_type": "code",
   "execution_count": null,
   "metadata": {},
   "outputs": [],
   "source": []
  }
 ],
 "metadata": {
  "kernelspec": {
   "display_name": "Python 3",
   "language": "python",
   "name": "python3"
  },
  "language_info": {
   "codemirror_mode": {
    "name": "ipython",
    "version": 3
   },
   "file_extension": ".py",
   "mimetype": "text/x-python",
   "name": "python",
   "nbconvert_exporter": "python",
   "pygments_lexer": "ipython3",
   "version": "3.7.1"
  }
 },
 "nbformat": 4,
 "nbformat_minor": 2
}
